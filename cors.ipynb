{
 "cells": [
  {
   "cell_type": "code",
   "execution_count": 2,
   "metadata": {},
   "outputs": [],
   "source": [
    "#import dependencies\n",
    "from flask import Flask\n",
    "from flask_cors import CORS, cross_origin"
   ]
  },
  {
   "cell_type": "code",
   "execution_count": 3,
   "metadata": {},
   "outputs": [],
   "source": [
    "def createte_app(test_config=None):\n",
    "    app = Flask(__name__)\n",
    "    #CORS(app)\n",
    "    cors = CORS(app, resources={r\"/api/*\": {\"origins\": \"*\"}})\n",
    "\n",
    "    #CORS Headers\n",
    "    @app.after_request\n",
    "    def after_request(response):\n",
    "        response.headers.add('Access-Control-Allow-Headers', 'Content-Type, Authorization,true')\n",
    "        response.headers.add('Access-Control-Allow-Methods', 'GET,PATCH,POST,DELETE,OPTIONS')\n",
    "        return response\n",
    "\n",
    "    @app.route('/messages')\n",
    "    @cross_origin()\n",
    "    def get_messages():\n",
    "        return 'GETING MESSAGES'    \n"
   ]
  },
  {
   "cell_type": "code",
   "execution_count": null,
   "metadata": {},
   "outputs": [],
   "source": []
  }
 ],
 "metadata": {
  "kernelspec": {
   "display_name": "Python 3.10.6 ('env': venv)",
   "language": "python",
   "name": "python3"
  },
  "language_info": {
   "codemirror_mode": {
    "name": "ipython",
    "version": 3
   },
   "file_extension": ".py",
   "mimetype": "text/x-python",
   "name": "python",
   "nbconvert_exporter": "python",
   "pygments_lexer": "ipython3",
   "version": "3.10.6"
  },
  "orig_nbformat": 4,
  "vscode": {
   "interpreter": {
    "hash": "df744e9fd694c1ff5a2ced0abbc121494063f893c9c554f3f7edb0bf0f911ddf"
   }
  }
 },
 "nbformat": 4,
 "nbformat_minor": 2
}
